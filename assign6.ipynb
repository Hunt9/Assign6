{
 "cells": [
  {
   "cell_type": "code",
   "execution_count": null,
   "metadata": {},
   "outputs": [],
   "source": [
    "#F1: loading data in a dataframe (either CSV or Excel - can be generalized for databases)"
   ]
  },
  {
   "cell_type": "code",
   "execution_count": null,
   "metadata": {},
   "outputs": [],
   "source": [
    "#F2: checking shape, column types, and see the first/last 'n' rows using head/tail (where n is one of the arguments of F2)"
   ]
  },
  {
   "cell_type": "code",
   "execution_count": null,
   "metadata": {},
   "outputs": [],
   "source": [
    "#F3: remove unnecessary/useless columns (based on results of F2 and your background knowledge and the problem to be solved), \n",
    "#e.g., identifiers, multiple primary keys, extra KPI like GMROI in sales which is the same for the whole year etc.\n",
    "\n"
   ]
  },
  {
   "cell_type": "code",
   "execution_count": null,
   "metadata": {},
   "outputs": [],
   "source": [
    "#F4: remove rows containing a particular value of a given column, e.g., in smoking_status column, \n",
    "#I don't want to consider non-smokers in my ML problem so I remove all these rows"
   ]
  },
  {
   "cell_type": "code",
   "execution_count": null,
   "metadata": {},
   "outputs": [],
   "source": [
    "#F5: determine the missing values in the whole dataset"
   ]
  },
  {
   "cell_type": "code",
   "execution_count": null,
   "metadata": {},
   "outputs": [],
   "source": [
    "#F6: analyze missing values of one or more columns using mano module\n",
    "\n"
   ]
  },
  {
   "cell_type": "code",
   "execution_count": null,
   "metadata": {},
   "outputs": [],
   "source": [
    "#F7: cater for missing values (input the column with missing value, and the method through which you want to cater for \n",
    "#the missing values)\n",
    "\n"
   ]
  },
  {
   "cell_type": "code",
   "execution_count": null,
   "metadata": {},
   "outputs": [],
   "source": [
    "#F8: Function for numerical data analysis - includes histogram, boxplot, qqplot, describe, and statistical tests for normality"
   ]
  },
  {
   "cell_type": "code",
   "execution_count": null,
   "metadata": {},
   "outputs": [],
   "source": [
    "#F9: Function for categorical data analysis - includes value counts, and bar charts"
   ]
  },
  {
   "cell_type": "code",
   "execution_count": null,
   "metadata": {},
   "outputs": [],
   "source": [
    "#F10: Function to change the type of any column (input col name and the type you want)"
   ]
  },
  {
   "cell_type": "code",
   "execution_count": null,
   "metadata": {},
   "outputs": [],
   "source": [
    "#F11: Function to change the discretizations of a particular catergorical column, e.g., rename the values, remove space between\n",
    "#value names etc.\n"
   ]
  },
  {
   "cell_type": "code",
   "execution_count": null,
   "metadata": {},
   "outputs": [],
   "source": [
    "#F12: Function for data analysis - extract year, month etc., subtract dates etc. \n",
    "#(this function cannot be specified exactly so just add what you believe are the basic things"
   ]
  },
  {
   "cell_type": "code",
   "execution_count": null,
   "metadata": {},
   "outputs": [],
   "source": [
    "#F13: function to make a deep copy of a dataframe"
   ]
  },
  {
   "cell_type": "code",
   "execution_count": null,
   "metadata": {},
   "outputs": [],
   "source": [
    "#F14: function to encode categorical into numerical (label, ordinal, or onehot)"
   ]
  },
  {
   "cell_type": "code",
   "execution_count": null,
   "metadata": {},
   "outputs": [],
   "source": [
    "#F15: function to split dataframe into X (predictors) and y (label), apply standard scaling on X, \n",
    "#apply the desired ML algorithm and output the results:\n",
    "#- input dataframe\n",
    "#- input the algo name (e.g., decisiontree)\n",
    "#- input whether this is a classification task or a regression task (then you should select either decisiontreeclassifier or decisiontreeregressor within the function)\n",
    "# - for classification, output confusion matrix, AUC, logloss and classification report\n",
    "# - for regression, output MAE, MSE, R-squared and adjusted R-squaredÃ‚Â \n",
    "# - NB: you can add more metrics if available"
   ]
  },
  {
   "cell_type": "code",
   "execution_count": null,
   "metadata": {},
   "outputs": [],
   "source": [
    "#F16: Function to apply ANOVA and output results"
   ]
  },
  {
   "cell_type": "code",
   "execution_count": null,
   "metadata": {},
   "outputs": [],
   "source": [
    "#F17: Function to generate correlation heatmaps"
   ]
  },
  {
   "cell_type": "code",
   "execution_count": null,
   "metadata": {},
   "outputs": [],
   "source": [
    "#F18: Function to generate scatter plot\n",
    "\n"
   ]
  }
 ],
 "metadata": {
  "kernelspec": {
   "display_name": "Python 3",
   "language": "python",
   "name": "python3"
  },
  "language_info": {
   "codemirror_mode": {
    "name": "ipython",
    "version": 3
   },
   "file_extension": ".py",
   "mimetype": "text/x-python",
   "name": "python",
   "nbconvert_exporter": "python",
   "pygments_lexer": "ipython3",
   "version": "3.8.5"
  }
 },
 "nbformat": 4,
 "nbformat_minor": 4
}
